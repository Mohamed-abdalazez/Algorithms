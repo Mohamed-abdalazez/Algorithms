{
 "cells": [
  {
   "cell_type": "markdown",
   "metadata": {},
   "source": [
    "# Chapter 8|  Recursion and Dynamic Programming.\n",
    "##### cracking the coding interview book"
   ]
  },
  {
   "cell_type": "markdown",
   "metadata": {},
   "source": [
    "## Usage\n",
    "\n",
    "<div style=\"background: #efffed;\n",
    "            border: 1px solid grey;\n",
    "            margin: 8px 0 8px 0;\n",
    "            text-align: center;\n",
    "            padding: 8px; \">\n",
    "    <i class=\"fa-play fa\" \n",
    "       style=\"font-size: 40px;\n",
    "              line-height: 40px;\n",
    "              margin: 8px;\n",
    "              color: #444;\">\n",
    "    </i>\n",
    "    <div>\n",
    "    To run the selected code cell, hit <pre style=\"background: #efffed\">Shift + Enter</pre>\n",
    "    </div>\n",
    "</div>"
   ]
  },
  {
   "cell_type": "markdown",
   "metadata": {},
   "source": [
    "## How to Approach \n",
    "\n",
    "#### generally:\n",
    "\n",
    "- Recursive solutions built off solutions to subproblems.\n",
    "- there are many ways to divide a problem into subproblems, most common Approaches are:\n",
    "    - Bottom Up: The key here is to think about how you can build the solution for one case based on the previous case (or multiple previous cases).\n",
    "    - Top-Down: we think about how we can divide the problem for case N into subproblems.\n",
    "    - Half and Half: For example, binary search we first figure out which half of the array contains the value. Then we recurse and search for it in that half.\n",
    "\n",
    "## Dynamic Programming & Memoization(Top-Down)\n",
    "\n",
    "#### nth Fibonacci number \"Recursive\"\n",
    "\n",
    "The Fibonacci numbers, commonly denoted F(n) form a sequence, called the Fibonacci sequence, such that each number is the sum of the two preceding ones, starting from 0 and 1. That is, \n",
    "<br>\n",
    "F(0) = 0, F(1) = 1\n",
    "<br>\n",
    "F(n) = F(n - 1) + F(n - 2), for n > 1.\n",
    "<br>\n",
    "ex.\n",
    "<br>\n",
    "0, 1, 1, 2, 3, 5, 8, 13, 21, 34"
   ]
  },
  {
   "cell_type": "code",
   "execution_count": null,
   "metadata": {},
   "outputs": [],
   "source": [
    "#include <iostream>\n",
    "using namespace std;"
   ]
  },
  {
   "cell_type": "code",
   "execution_count": null,
   "metadata": {},
   "outputs": [],
   "source": [
    "int Fibonacci(int idx){\n",
    "    if (idx == 0) return 0;\n",
    "    if (idx == 1) return 1;\n",
    "    return Fibonacci(idx - 1) + Fibonacci(idx - 2);\n",
    "}\n"
   ]
  },
  {
   "cell_type": "code",
   "execution_count": null,
   "metadata": {},
   "outputs": [],
   "source": [
    "int idx;\n",
    "cin >> idx;"
   ]
  },
  {
   "cell_type": "code",
   "execution_count": 6,
   "metadata": {},
   "outputs": [
    {
     "data": {
      "text/plain": [
       "21"
      ]
     },
     "execution_count": 6,
     "metadata": {},
     "output_type": "execute_result"
    }
   ],
   "source": [
    "Fibonacci(idx)"
   ]
  },
  {
   "cell_type": "markdown",
   "metadata": {},
   "source": [
    "#### We Should look for way to optimize this O(2^n) solution using Top-down dynamic Programming or Memoization"
   ]
  },
  {
   "cell_type": "code",
   "execution_count": 26,
   "metadata": {},
   "outputs": [],
   "source": [
    "#include <iostream>\n",
    "using namespace std;"
   ]
  },
  {
   "cell_type": "code",
   "execution_count": 27,
   "metadata": {},
   "outputs": [],
   "source": [
    "int Fibonaccimemo(int idx, int memo[]){\n",
    "    if (idx == 0 || idx == 1) return idx;\n",
    "    if (memo[idx] == 0){//still not visited\n",
    "        memo[idx] = Fibonaccimemo(idx - 1, memo) + Fibonaccimemo(idx - 2, memo);\n",
    "    }\n",
    "    return memo[idx];\n",
    "}"
   ]
  },
  {
   "cell_type": "code",
   "execution_count": 28,
   "metadata": {},
   "outputs": [],
   "source": [
    "const int MAX = 1000;\n",
    "int memo[MAX];"
   ]
  },
  {
   "cell_type": "code",
   "execution_count": 29,
   "metadata": {},
   "outputs": [
    {
     "name": "stdout",
     "output_type": "stream",
     "text": [
      "9\n"
     ]
    }
   ],
   "source": [
    "int idx;\n",
    "cin >> idx;"
   ]
  },
  {
   "cell_type": "code",
   "execution_count": 30,
   "metadata": {},
   "outputs": [
    {
     "data": {
      "text/plain": [
       "34"
      ]
     },
     "execution_count": 30,
     "metadata": {},
     "output_type": "execute_result"
    }
   ],
   "source": [
    "Fibonaccimemo(idx, memo)"
   ]
  },
  {
   "cell_type": "markdown",
   "metadata": {},
   "source": [
    "#### we can also use Bottom-Up dynamic Programming\n",
    "    - First, we compute fib(1) and fib( 0), which are already known from the base cases. Then we use those to compute fib(2). Then we use the prior answers to compute fib(3), then fib(4), and so on.\n"
   ]
  },
  {
   "cell_type": "code",
   "execution_count": 1,
   "metadata": {},
   "outputs": [],
   "source": [
    "#include <iostream>\n",
    "using namespace std;"
   ]
  },
  {
   "cell_type": "code",
   "execution_count": 2,
   "metadata": {},
   "outputs": [],
   "source": [
    "int FibonacciBU(int n){\n",
    "    if (n == 0 || n == 1) return n;\n",
    "    int memo[n];\n",
    "    memo[0] = 0;\n",
    "    memo[1] = 1;\n",
    "    for (int i = 2; i < n; i++){\n",
    "        memo[i] = memo[i - 1] + memo[i - 2];\n",
    "    }\n",
    "    return memo[n - 1] + memo[n - 2]; \n",
    "}"
   ]
  },
  {
   "cell_type": "code",
   "execution_count": 3,
   "metadata": {},
   "outputs": [
    {
     "name": "stdout",
     "output_type": "stream",
     "text": [
      "9\n"
     ]
    }
   ],
   "source": [
    "int idx;\n",
    "cin >> idx;"
   ]
  },
  {
   "cell_type": "code",
   "execution_count": 4,
   "metadata": {
    "scrolled": true
   },
   "outputs": [
    {
     "data": {
      "text/plain": [
       "34"
      ]
     },
     "execution_count": 4,
     "metadata": {},
     "output_type": "execute_result"
    }
   ],
   "source": [
    "FibonacciBU(idx)"
   ]
  },
  {
   "cell_type": "markdown",
   "metadata": {},
   "source": [
    "#### Note\n",
    "\n",
    "-If you really think about how this works, you only use memo[i] for memo[i+1] and memo[i+2]. You don't need it after that. Therefore, we can get rid of the memo table and just store a few variables.\n",
    "\n"
   ]
  },
  {
   "cell_type": "code",
   "execution_count": 9,
   "metadata": {},
   "outputs": [],
   "source": [
    "#include <iostream>\n",
    "using namespace std;"
   ]
  },
  {
   "cell_type": "code",
   "execution_count": 10,
   "metadata": {},
   "outputs": [],
   "source": [
    "int FibonacciBUI(int n){\n",
    "    if (n == 0 || n == 1) return n;\n",
    "    int memo[n];\n",
    "    int a = 0;\n",
    "    int b = 1;\n",
    "    for (int i = 2; i < n; i++){\n",
    "       int c = a + b;\n",
    "        a = b;\n",
    "        b = c;\n",
    "    }\n",
    "    return a + b; \n",
    "}"
   ]
  },
  {
   "cell_type": "code",
   "execution_count": 11,
   "metadata": {},
   "outputs": [
    {
     "name": "stdout",
     "output_type": "stream",
     "text": [
      "9\n"
     ]
    }
   ],
   "source": [
    "int idx;\n",
    "cin >> idx;"
   ]
  },
  {
   "cell_type": "code",
   "execution_count": 12,
   "metadata": {},
   "outputs": [
    {
     "data": {
      "text/plain": [
       "35"
      ]
     },
     "execution_count": 12,
     "metadata": {},
     "output_type": "execute_result"
    }
   ],
   "source": [
    " FibonacciBUI(idx)"
   ]
  }
 ],
 "metadata": {
  "kernelspec": {
   "display_name": "C++14",
   "language": "C++14",
   "name": "xcpp14"
  },
  "language_info": {
   "codemirror_mode": "text/x-c++src",
   "file_extension": ".cpp",
   "mimetype": "text/x-c++src",
   "name": "c++",
   "version": "14"
  }
 },
 "nbformat": 4,
 "nbformat_minor": 2
}
